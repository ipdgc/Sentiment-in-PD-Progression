{
 "cells": [
  {
   "cell_type": "code",
   "execution_count": 1,
   "metadata": {},
   "outputs": [],
   "source": [
    "import praw\n",
    "import pandas as pd\n",
    "import datetime as dt\n",
    "from psaw import PushshiftAPI\n",
    "import re"
   ]
  },
  {
   "cell_type": "code",
   "execution_count": 2,
   "metadata": {},
   "outputs": [],
   "source": [
    "reddit = praw.Reddit(client_id='73IApaJarJRRVA',client_secret='QIET4TRTvxlLWDNFfobmDD7oAfM',user_agent='PD sentiment',username='hll4ce',password='Snsh11nE')\n",
    "api = PushshiftAPI(reddit)"
   ]
  },
  {
   "cell_type": "code",
   "execution_count": 3,
   "metadata": {},
   "outputs": [],
   "source": [
    "start_epoch = int(dt.datetime(2012, 1, 1).timestamp()) \n",
    "\n",
    "submissions_all_time = list(api.search_submissions(after = start_epoch,\n",
    "                                                   subreddit = 'Parkinsons',\n",
    "                                                   filter=['url','author', 'title', 'subreddit'],\n",
    "                                                   limit = None))\n",
    "len(submissions_all_time)\n",
    "\n",
    "submissions_dict = { \"title\":[], \"score\":[], \"id\":[], \"url\":[],\"comms_num\": [], \"created\": [], \"body\":[]}\n",
    "    \n",
    "for submission in submissions_all_time:\n",
    "    \n",
    "    submissions_dict[\"title\"].append(submission.title)\n",
    "    submissions_dict[\"score\"].append(submission.score)\n",
    "    submissions_dict[\"id\"].append(submission.id)\n",
    "    submissions_dict[\"url\"].append(submission.url)\n",
    "    submissions_dict[\"comms_num\"].append(submission.num_comments)\n",
    "    submissions_dict[\"created\"].append(submission.created)\n",
    "    submissions_dict[\"body\"].append(submission.selftext)\n",
    "\n",
    "submissions_data = pd.DataFrame(submissions_dict)"
   ]
  },
  {
   "cell_type": "code",
   "execution_count": 4,
   "metadata": {},
   "outputs": [],
   "source": [
    "comments_all_time = list(api.search_comments(after = start_epoch,\n",
    "                                             subreddit = 'Parkinsons',\n",
    "                                             limit = None))\n",
    "\n",
    "comments_dict = {\"parent_id\":[], \n",
    "                 \"subreddit_id\":[], \n",
    "                 \"id\":[], \n",
    "                 \"score\":[], \n",
    "                 \"created\": [], \n",
    "                 \"body\":[], \n",
    "                 \"controversiality\":[]}\n",
    "    \n",
    "for comment in comments_all_time:\n",
    "    comments_dict[\"parent_id\"].append(comment.parent_id)\n",
    "    comments_dict[\"subreddit_id\"].append(comment.subreddit_id)\n",
    "    comments_dict[\"id\"].append(comment.id)\n",
    "    comments_dict[\"score\"].append(comment.score)\n",
    "    comments_dict[\"controversiality\"].append(comment.controversiality)\n",
    "    comments_dict[\"created\"].append(comment.created)\n",
    "    comments_dict[\"body\"].append(comment.body)\n",
    "\n",
    "comments_data = pd.DataFrame(comments_dict)"
   ]
  },
  {
   "cell_type": "code",
   "execution_count": 5,
   "metadata": {},
   "outputs": [
    {
     "data": {
      "text/html": [
       "<div>\n",
       "<style scoped>\n",
       "    .dataframe tbody tr th:only-of-type {\n",
       "        vertical-align: middle;\n",
       "    }\n",
       "\n",
       "    .dataframe tbody tr th {\n",
       "        vertical-align: top;\n",
       "    }\n",
       "\n",
       "    .dataframe thead th {\n",
       "        text-align: right;\n",
       "    }\n",
       "</style>\n",
       "<table border=\"1\" class=\"dataframe\">\n",
       "  <thead>\n",
       "    <tr style=\"text-align: right;\">\n",
       "      <th></th>\n",
       "      <th>title</th>\n",
       "      <th>score</th>\n",
       "      <th>id</th>\n",
       "      <th>url</th>\n",
       "      <th>comms_num</th>\n",
       "      <th>created</th>\n",
       "      <th>body</th>\n",
       "    </tr>\n",
       "  </thead>\n",
       "  <tbody>\n",
       "    <tr>\n",
       "      <th>0</th>\n",
       "      <td>Loss of concentration</td>\n",
       "      <td>3</td>\n",
       "      <td>ecnwhm</td>\n",
       "      <td>https://www.reddit.com/r/Parkinsons/comments/e...</td>\n",
       "      <td>0</td>\n",
       "      <td>1.576757e+09</td>\n",
       "      <td>I have been living with YOPD for a few years. ...</td>\n",
       "    </tr>\n",
       "    <tr>\n",
       "      <th>1</th>\n",
       "      <td>How to detect Parkinson's with certainty?</td>\n",
       "      <td>4</td>\n",
       "      <td>ecif6j</td>\n",
       "      <td>https://www.reddit.com/r/Parkinsons/comments/e...</td>\n",
       "      <td>8</td>\n",
       "      <td>1.576731e+09</td>\n",
       "      <td>I am 33, Male and have been experiencing rando...</td>\n",
       "    </tr>\n",
       "    <tr>\n",
       "      <th>2</th>\n",
       "      <td>I have a few questions for people with Parkins...</td>\n",
       "      <td>7</td>\n",
       "      <td>ec9h83</td>\n",
       "      <td>https://www.reddit.com/r/Parkinsons/comments/e...</td>\n",
       "      <td>6</td>\n",
       "      <td>1.576683e+09</td>\n",
       "      <td>1#: Do you ever get \"used\" to the shaking?  Th...</td>\n",
       "    </tr>\n",
       "    <tr>\n",
       "      <th>3</th>\n",
       "      <td>Looking for advice about levodopa.</td>\n",
       "      <td>2</td>\n",
       "      <td>ec5tmc</td>\n",
       "      <td>https://www.reddit.com/r/Parkinsons/comments/e...</td>\n",
       "      <td>2</td>\n",
       "      <td>1.576663e+09</td>\n",
       "      <td>[deleted]</td>\n",
       "    </tr>\n",
       "    <tr>\n",
       "      <th>4</th>\n",
       "      <td>Regulation of mitochondrial morphology and fun...</td>\n",
       "      <td>1</td>\n",
       "      <td>ebs9pq</td>\n",
       "      <td>https://www.nature.com/articles/nature14601</td>\n",
       "      <td>1</td>\n",
       "      <td>1.576594e+09</td>\n",
       "      <td></td>\n",
       "    </tr>\n",
       "  </tbody>\n",
       "</table>\n",
       "</div>"
      ],
      "text/plain": [
       "                                               title  score      id  \\\n",
       "0                              Loss of concentration      3  ecnwhm   \n",
       "1          How to detect Parkinson's with certainty?      4  ecif6j   \n",
       "2  I have a few questions for people with Parkins...      7  ec9h83   \n",
       "3                 Looking for advice about levodopa.      2  ec5tmc   \n",
       "4  Regulation of mitochondrial morphology and fun...      1  ebs9pq   \n",
       "\n",
       "                                                 url  comms_num       created  \\\n",
       "0  https://www.reddit.com/r/Parkinsons/comments/e...          0  1.576757e+09   \n",
       "1  https://www.reddit.com/r/Parkinsons/comments/e...          8  1.576731e+09   \n",
       "2  https://www.reddit.com/r/Parkinsons/comments/e...          6  1.576683e+09   \n",
       "3  https://www.reddit.com/r/Parkinsons/comments/e...          2  1.576663e+09   \n",
       "4        https://www.nature.com/articles/nature14601          1  1.576594e+09   \n",
       "\n",
       "                                                body  \n",
       "0  I have been living with YOPD for a few years. ...  \n",
       "1  I am 33, Male and have been experiencing rando...  \n",
       "2  1#: Do you ever get \"used\" to the shaking?  Th...  \n",
       "3                                          [deleted]  \n",
       "4                                                     "
      ]
     },
     "execution_count": 5,
     "metadata": {},
     "output_type": "execute_result"
    }
   ],
   "source": [
    "submissions_data.head()"
   ]
  },
  {
   "cell_type": "code",
   "execution_count": 6,
   "metadata": {},
   "outputs": [
    {
     "data": {
      "text/html": [
       "<div>\n",
       "<style scoped>\n",
       "    .dataframe tbody tr th:only-of-type {\n",
       "        vertical-align: middle;\n",
       "    }\n",
       "\n",
       "    .dataframe tbody tr th {\n",
       "        vertical-align: top;\n",
       "    }\n",
       "\n",
       "    .dataframe thead th {\n",
       "        text-align: right;\n",
       "    }\n",
       "</style>\n",
       "<table border=\"1\" class=\"dataframe\">\n",
       "  <thead>\n",
       "    <tr style=\"text-align: right;\">\n",
       "      <th></th>\n",
       "      <th>parent_id</th>\n",
       "      <th>subreddit_id</th>\n",
       "      <th>id</th>\n",
       "      <th>score</th>\n",
       "      <th>created</th>\n",
       "      <th>body</th>\n",
       "      <th>controversiality</th>\n",
       "    </tr>\n",
       "  </thead>\n",
       "  <tbody>\n",
       "    <tr>\n",
       "      <th>0</th>\n",
       "      <td>t3_ecif6j</td>\n",
       "      <td>t5_2u0be</td>\n",
       "      <td>fbd7non</td>\n",
       "      <td>1</td>\n",
       "      <td>1.576780e+09</td>\n",
       "      <td>This doesn't sound like Parkinson's but in any...</td>\n",
       "      <td>0</td>\n",
       "    </tr>\n",
       "    <tr>\n",
       "      <th>1</th>\n",
       "      <td>t3_ecif6j</td>\n",
       "      <td>t5_2u0be</td>\n",
       "      <td>fbcmv0p</td>\n",
       "      <td>1</td>\n",
       "      <td>1.576757e+09</td>\n",
       "      <td>Not much in medicine approaches 100% certainty...</td>\n",
       "      <td>0</td>\n",
       "    </tr>\n",
       "    <tr>\n",
       "      <th>2</th>\n",
       "      <td>t3_ecif6j</td>\n",
       "      <td>t5_2u0be</td>\n",
       "      <td>fbci7y2</td>\n",
       "      <td>1</td>\n",
       "      <td>1.576753e+09</td>\n",
       "      <td>Get thee to a neurologist.\\n\\nAs others say, t...</td>\n",
       "      <td>0</td>\n",
       "    </tr>\n",
       "    <tr>\n",
       "      <th>3</th>\n",
       "      <td>t1_fbbpcbb</td>\n",
       "      <td>t5_2u0be</td>\n",
       "      <td>fbc6pvc</td>\n",
       "      <td>2</td>\n",
       "      <td>1.576746e+09</td>\n",
       "      <td>You certainly cannot tell this person whether ...</td>\n",
       "      <td>0</td>\n",
       "    </tr>\n",
       "    <tr>\n",
       "      <th>4</th>\n",
       "      <td>t3_ecif6j</td>\n",
       "      <td>t5_2u0be</td>\n",
       "      <td>fbc6ftq</td>\n",
       "      <td>1</td>\n",
       "      <td>1.576746e+09</td>\n",
       "      <td>For my diagnosis, it was a process. I had othe...</td>\n",
       "      <td>0</td>\n",
       "    </tr>\n",
       "  </tbody>\n",
       "</table>\n",
       "</div>"
      ],
      "text/plain": [
       "    parent_id subreddit_id       id  score       created  \\\n",
       "0   t3_ecif6j     t5_2u0be  fbd7non      1  1.576780e+09   \n",
       "1   t3_ecif6j     t5_2u0be  fbcmv0p      1  1.576757e+09   \n",
       "2   t3_ecif6j     t5_2u0be  fbci7y2      1  1.576753e+09   \n",
       "3  t1_fbbpcbb     t5_2u0be  fbc6pvc      2  1.576746e+09   \n",
       "4   t3_ecif6j     t5_2u0be  fbc6ftq      1  1.576746e+09   \n",
       "\n",
       "                                                body  controversiality  \n",
       "0  This doesn't sound like Parkinson's but in any...                 0  \n",
       "1  Not much in medicine approaches 100% certainty...                 0  \n",
       "2  Get thee to a neurologist.\\n\\nAs others say, t...                 0  \n",
       "3  You certainly cannot tell this person whether ...                 0  \n",
       "4  For my diagnosis, it was a process. I had othe...                 0  "
      ]
     },
     "execution_count": 6,
     "metadata": {},
     "output_type": "execute_result"
    }
   ],
   "source": [
    "comments_data.head()"
   ]
  },
  {
   "cell_type": "code",
   "execution_count": 7,
   "metadata": {},
   "outputs": [],
   "source": [
    "comments_data[\"parent_id_tidy\"] = [re.sub(\".*_\", \"\", x) for x in comments_data[\"parent_id\"]]"
   ]
  },
  {
   "cell_type": "code",
   "execution_count": 12,
   "metadata": {},
   "outputs": [
    {
     "data": {
      "text/plain": [
       "[True, True, False, True, True, True, True, True, True]"
      ]
     },
     "execution_count": 12,
     "metadata": {},
     "output_type": "execute_result"
    }
   ],
   "source": [
    "# there are some Falses so some ids don't match up from comments to submissions\n",
    "[x in list(submissions_data[\"id\"]) for x in comments_data[\"parent_id_tidy\"]][1:10]"
   ]
  },
  {
   "cell_type": "code",
   "execution_count": 13,
   "metadata": {},
   "outputs": [
    {
     "name": "stdout",
     "output_type": "stream",
     "text": [
      "2586\n",
      "11932\n"
     ]
    }
   ],
   "source": [
    "print(len(submissions_data))\n",
    "print(len(comments_data))"
   ]
  },
  {
   "cell_type": "code",
   "execution_count": 14,
   "metadata": {},
   "outputs": [],
   "source": [
    "submissions_data.to_csv(\"~/Dropbox/DZ_Work/UCL/RA_PhD_2017/courses/Sentiment-in-PD-Progression/parkinsons_submissions.csv\")\n",
    "comments_data.to_csv(\"~/Dropbox/DZ_Work/UCL/RA_PhD_2017/courses/Sentiment-in-PD-Progression/parkinsons_comments.csv\")"
   ]
  },
  {
   "cell_type": "code",
   "execution_count": null,
   "metadata": {},
   "outputs": [],
   "source": []
  }
 ],
 "metadata": {
  "kernelspec": {
   "display_name": "Python 3",
   "language": "python",
   "name": "python3"
  },
  "language_info": {
   "codemirror_mode": {
    "name": "ipython",
    "version": 3
   },
   "file_extension": ".py",
   "mimetype": "text/x-python",
   "name": "python",
   "nbconvert_exporter": "python",
   "pygments_lexer": "ipython3",
   "version": "3.7.3"
  }
 },
 "nbformat": 4,
 "nbformat_minor": 2
}
